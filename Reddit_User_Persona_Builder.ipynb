{
  "nbformat": 4,
  "nbformat_minor": 0,
  "metadata": {
    "colab": {
      "provenance": []
    },
    "kernelspec": {
      "name": "python3",
      "display_name": "Python 3"
    },
    "language_info": {
      "name": "python"
    }
  },
  "cells": [
    {
      "cell_type": "markdown",
      "source": [
        "**Step 1: Installing praw(python Reddit APi Wrapper)**"
      ],
      "metadata": {
        "id": "qDrRrytkDxSP"
      }
    },
    {
      "cell_type": "code",
      "source": [
        "!pip install praw"
      ],
      "metadata": {
        "colab": {
          "base_uri": "https://localhost:8080/"
        },
        "id": "y01bPvseAiMy",
        "outputId": "bbf47493-8afc-4d7c-ebce-b8475f377ba7",
        "collapsed": true
      },
      "execution_count": null,
      "outputs": [
        {
          "output_type": "stream",
          "name": "stdout",
          "text": [
            "Collecting praw\n",
            "  Downloading praw-7.8.1-py3-none-any.whl.metadata (9.4 kB)\n",
            "Collecting prawcore<3,>=2.4 (from praw)\n",
            "  Downloading prawcore-2.4.0-py3-none-any.whl.metadata (5.0 kB)\n",
            "Collecting update_checker>=0.18 (from praw)\n",
            "  Downloading update_checker-0.18.0-py3-none-any.whl.metadata (2.3 kB)\n",
            "Requirement already satisfied: websocket-client>=0.54.0 in /usr/local/lib/python3.11/dist-packages (from praw) (1.8.0)\n",
            "Requirement already satisfied: requests<3.0,>=2.6.0 in /usr/local/lib/python3.11/dist-packages (from prawcore<3,>=2.4->praw) (2.32.3)\n",
            "Requirement already satisfied: charset-normalizer<4,>=2 in /usr/local/lib/python3.11/dist-packages (from requests<3.0,>=2.6.0->prawcore<3,>=2.4->praw) (3.4.2)\n",
            "Requirement already satisfied: idna<4,>=2.5 in /usr/local/lib/python3.11/dist-packages (from requests<3.0,>=2.6.0->prawcore<3,>=2.4->praw) (3.10)\n",
            "Requirement already satisfied: urllib3<3,>=1.21.1 in /usr/local/lib/python3.11/dist-packages (from requests<3.0,>=2.6.0->prawcore<3,>=2.4->praw) (2.4.0)\n",
            "Requirement already satisfied: certifi>=2017.4.17 in /usr/local/lib/python3.11/dist-packages (from requests<3.0,>=2.6.0->prawcore<3,>=2.4->praw) (2025.7.9)\n",
            "Downloading praw-7.8.1-py3-none-any.whl (189 kB)\n",
            "\u001b[2K   \u001b[90m━━━━━━━━━━━━━━━━━━━━━━━━━━━━━━━━━━━━━━━━\u001b[0m \u001b[32m189.3/189.3 kB\u001b[0m \u001b[31m8.8 MB/s\u001b[0m eta \u001b[36m0:00:00\u001b[0m\n",
            "\u001b[?25hDownloading prawcore-2.4.0-py3-none-any.whl (17 kB)\n",
            "Downloading update_checker-0.18.0-py3-none-any.whl (7.0 kB)\n",
            "Installing collected packages: update_checker, prawcore, praw\n",
            "Successfully installed praw-7.8.1 prawcore-2.4.0 update_checker-0.18.0\n"
          ]
        }
      ]
    },
    {
      "cell_type": "code",
      "source": [
        "import praw\n",
        "\n",
        "reddit= praw.Reddit(\n",
        "\n",
        "    client_id= \"Your client id\",\n",
        "    client_secret= \"Your client secret\",\n",
        "    user_agent= \"user persona script by Misba\"\n",
        "\n",
        "    )\n",
        "\n",
        "print(\"Reddit connection successful\")"
      ],
      "metadata": {
        "colab": {
          "base_uri": "https://localhost:8080/"
        },
        "id": "xhUnf_5yAtRB",
        "outputId": "00dd7a43-eb5c-4985-c9ea-b18af02ae9bd"
      },
      "execution_count": null,
      "outputs": [
        {
          "output_type": "stream",
          "name": "stdout",
          "text": [
            "Reddit connection successful\n"
          ]
        }
      ]
    },
    {
      "cell_type": "markdown",
      "source": [
        "**Step 2: scrape user posts and comments**\n"
      ],
      "metadata": {
        "id": "W__H5-qlUoyU"
      }
    },
    {
      "cell_type": "code",
      "source": [
        "#enter the username you want to analyse\n",
        "\n",
        "username=\"Hungry-Move-6603\"\n",
        "\n",
        "#Get the redditor object\n",
        "\n",
        "redditor = reddit.redditor(username)\n",
        "\n",
        "#fetch recent comments\n",
        "\n",
        "print(\"recent comments: \\n\")\n",
        "for comment in redditor.comments.new(limit=5):\n",
        "  print(comment.body[:200])\n",
        "\n",
        "  #fetch recent post(submissions)\n",
        "\n",
        "  print(\"\\n recent posts: \\n\")\n",
        "  for submission in redditor.submissions.new(limit=5):\n",
        "     print(f\"- {submission.title}\")\n"
      ],
      "metadata": {
        "id": "Ddy8ZABAChGs",
        "colab": {
          "base_uri": "https://localhost:8080/"
        },
        "outputId": "993ad3ed-62c3-4da4-9d2a-188a644f7d78",
        "collapsed": true
      },
      "execution_count": null,
      "outputs": [
        {
          "output_type": "stream",
          "name": "stderr",
          "text": [
            "WARNING:praw:It appears that you are using PRAW in an asynchronous environment.\n",
            "It is strongly recommended to use Async PRAW: https://asyncpraw.readthedocs.io.\n",
            "See https://praw.readthedocs.io/en/latest/getting_started/multiple_instances.html#discord-bots-and-asynchronous-environments for more info.\n",
            "\n"
          ]
        },
        {
          "output_type": "stream",
          "name": "stdout",
          "text": [
            "recent comments: \n",
            "\n"
          ]
        },
        {
          "output_type": "stream",
          "name": "stderr",
          "text": [
            "WARNING:praw:It appears that you are using PRAW in an asynchronous environment.\n",
            "It is strongly recommended to use Async PRAW: https://asyncpraw.readthedocs.io.\n",
            "See https://praw.readthedocs.io/en/latest/getting_started/multiple_instances.html#discord-bots-and-asynchronous-environments for more info.\n",
            "\n",
            "WARNING:praw:It appears that you are using PRAW in an asynchronous environment.\n",
            "It is strongly recommended to use Async PRAW: https://asyncpraw.readthedocs.io.\n",
            "See https://praw.readthedocs.io/en/latest/getting_started/multiple_instances.html#discord-bots-and-asynchronous-environments for more info.\n",
            "\n"
          ]
        },
        {
          "output_type": "stream",
          "name": "stdout",
          "text": [
            "I was caught without helmet and license (close to my home). Cops outright wanted to fine me, but a 'common guy' came in and discussed bribe on my behalf with cops. I gave him 200rs (back in 2011) and \n",
            "\n",
            " recent posts: \n",
            "\n",
            "- Productive weekend activities in LKO?\n",
            "- Everyone is something in LKO\n",
            "Cops keep a civ around to discuss bribes.\n",
            "\n",
            " recent posts: \n",
            "\n"
          ]
        },
        {
          "output_type": "stream",
          "name": "stderr",
          "text": [
            "WARNING:praw:It appears that you are using PRAW in an asynchronous environment.\n",
            "It is strongly recommended to use Async PRAW: https://asyncpraw.readthedocs.io.\n",
            "See https://praw.readthedocs.io/en/latest/getting_started/multiple_instances.html#discord-bots-and-asynchronous-environments for more info.\n",
            "\n",
            "WARNING:praw:It appears that you are using PRAW in an asynchronous environment.\n",
            "It is strongly recommended to use Async PRAW: https://asyncpraw.readthedocs.io.\n",
            "See https://praw.readthedocs.io/en/latest/getting_started/multiple_instances.html#discord-bots-and-asynchronous-environments for more info.\n",
            "\n"
          ]
        },
        {
          "output_type": "stream",
          "name": "stdout",
          "text": [
            "- Productive weekend activities in LKO?\n",
            "- Everyone is something in LKO\n",
            "Toh hum Noida or Ghaziabad se pahadio ko bhagana shuru karein fir? 😂 Bhukmari ajaegi\n",
            "\n",
            " recent posts: \n",
            "\n",
            "- Productive weekend activities in LKO?\n",
            "- Everyone is something in LKO\n",
            "A menu easy to cook/process - healthy and quick.\n",
            "\n",
            " recent posts: \n",
            "\n"
          ]
        },
        {
          "output_type": "stream",
          "name": "stderr",
          "text": [
            "WARNING:praw:It appears that you are using PRAW in an asynchronous environment.\n",
            "It is strongly recommended to use Async PRAW: https://asyncpraw.readthedocs.io.\n",
            "See https://praw.readthedocs.io/en/latest/getting_started/multiple_instances.html#discord-bots-and-asynchronous-environments for more info.\n",
            "\n"
          ]
        },
        {
          "output_type": "stream",
          "name": "stdout",
          "text": [
            "- Productive weekend activities in LKO?\n",
            "- Everyone is something in LKO\n",
            "Haha Delhi is hateable too but mostly those are HR or UP14 NCR vehicle. Plus the percentage of vehicles of such sort is low.\n",
            "\n",
            " recent posts: \n",
            "\n",
            "- Productive weekend activities in LKO?\n",
            "- Everyone is something in LKO\n"
          ]
        }
      ]
    },
    {
      "cell_type": "markdown",
      "source": [
        "**step 3: Analyze text to create a persona**"
      ],
      "metadata": {
        "id": "Ekcn5Nkef_7i"
      }
    },
    {
      "cell_type": "code",
      "source": [
        "username= \"Hungry-Move-6603\"\n",
        "redditor = reddit.redditor(username)\n",
        "\n",
        "#collect comments\n",
        "\n",
        "comments=[]\n",
        "\n",
        "for comment in redditor.comments.new(limit=20):\n",
        "  comments.append(comment.body)\n",
        "\n",
        "#collect posts\n",
        "\n",
        "posts=[]\n",
        "for submission in redditor.submissions.new(limit=20):\n",
        "   posts.append(submission.title + \" \" + (submission.selftext[:500] if submission.selftext else \"\"))\n",
        "\n",
        "#write a file\n",
        "\n",
        "filename= f\"{username}_raw_text.txt\"\n",
        "with open(filename, \"w\" , encoding=\"utf-8\" )as f:\n",
        "\n",
        "  for c in comments:\n",
        "    f.write(c+\" \\n\\n\")\n",
        "    f.write(\"=== posts=== \\n\")\n",
        "\n",
        "  for p in posts:\n",
        "    f.write(p+ \"\\n \\n\")\n",
        "print(f\"Saved comments and posts to {filename}\")"
      ],
      "metadata": {
        "colab": {
          "base_uri": "https://localhost:8080/"
        },
        "id": "fS5bKCIrgM_1",
        "outputId": "c91e6e5a-fe06-4db3-a1e6-8931ddc8e53e"
      },
      "execution_count": 11,
      "outputs": [
        {
          "output_type": "stream",
          "name": "stderr",
          "text": [
            "WARNING:praw:It appears that you are using PRAW in an asynchronous environment.\n",
            "It is strongly recommended to use Async PRAW: https://asyncpraw.readthedocs.io.\n",
            "See https://praw.readthedocs.io/en/latest/getting_started/multiple_instances.html#discord-bots-and-asynchronous-environments for more info.\n",
            "\n",
            "WARNING:praw:It appears that you are using PRAW in an asynchronous environment.\n",
            "It is strongly recommended to use Async PRAW: https://asyncpraw.readthedocs.io.\n",
            "See https://praw.readthedocs.io/en/latest/getting_started/multiple_instances.html#discord-bots-and-asynchronous-environments for more info.\n",
            "\n"
          ]
        },
        {
          "output_type": "stream",
          "name": "stdout",
          "text": [
            "Saved comments and posts to Hungry-Move-6603_raw_text.txt\n"
          ]
        }
      ]
    },
    {
      "cell_type": "markdown",
      "source": [
        "**Step 4: downloading file for Hungry-Move-6603**"
      ],
      "metadata": {
        "id": "AaTS12D5ocGD"
      }
    },
    {
      "cell_type": "code",
      "source": [
        "from google.colab import files\n",
        "files.download(\"Hungry-Move-6603_raw_text.txt\")"
      ],
      "metadata": {
        "colab": {
          "base_uri": "https://localhost:8080/",
          "height": 17
        },
        "id": "8u757ijNEN0s",
        "outputId": "f1bd7afb-784d-4007-9fce-bc8444dd40a1"
      },
      "execution_count": 12,
      "outputs": [
        {
          "output_type": "display_data",
          "data": {
            "text/plain": [
              "<IPython.core.display.Javascript object>"
            ],
            "application/javascript": [
              "\n",
              "    async function download(id, filename, size) {\n",
              "      if (!google.colab.kernel.accessAllowed) {\n",
              "        return;\n",
              "      }\n",
              "      const div = document.createElement('div');\n",
              "      const label = document.createElement('label');\n",
              "      label.textContent = `Downloading \"${filename}\": `;\n",
              "      div.appendChild(label);\n",
              "      const progress = document.createElement('progress');\n",
              "      progress.max = size;\n",
              "      div.appendChild(progress);\n",
              "      document.body.appendChild(div);\n",
              "\n",
              "      const buffers = [];\n",
              "      let downloaded = 0;\n",
              "\n",
              "      const channel = await google.colab.kernel.comms.open(id);\n",
              "      // Send a message to notify the kernel that we're ready.\n",
              "      channel.send({})\n",
              "\n",
              "      for await (const message of channel.messages) {\n",
              "        // Send a message to notify the kernel that we're ready.\n",
              "        channel.send({})\n",
              "        if (message.buffers) {\n",
              "          for (const buffer of message.buffers) {\n",
              "            buffers.push(buffer);\n",
              "            downloaded += buffer.byteLength;\n",
              "            progress.value = downloaded;\n",
              "          }\n",
              "        }\n",
              "      }\n",
              "      const blob = new Blob(buffers, {type: 'application/binary'});\n",
              "      const a = document.createElement('a');\n",
              "      a.href = window.URL.createObjectURL(blob);\n",
              "      a.download = filename;\n",
              "      div.appendChild(a);\n",
              "      a.click();\n",
              "      div.remove();\n",
              "    }\n",
              "  "
            ]
          },
          "metadata": {}
        },
        {
          "output_type": "display_data",
          "data": {
            "text/plain": [
              "<IPython.core.display.Javascript object>"
            ],
            "application/javascript": [
              "download(\"download_842d91f3-44c6-4c07-8773-57a307e876f6\", \"Hungry-Move-6603_raw_text.txt\", 1686)"
            ]
          },
          "metadata": {}
        }
      ]
    },
    {
      "cell_type": "markdown",
      "source": [
        "**step 5: Writing persona for the user Hungry-Move-6603**\n"
      ],
      "metadata": {
        "id": "x3jvnn4vXaEV"
      }
    },
    {
      "cell_type": "code",
      "source": [
        "persona_text= \"\"\"\n",
        "=====================================\n",
        "USER PERSONA\n",
        "=====================================\n",
        "\n",
        "Username: Hungry-Move-6603\n",
        "\n",
        "-------------------------------------\n",
        "Interests\n",
        "-------------------------------------\n",
        "- social issues and everyday life situations(police bribes, civic behaviour)\n",
        "- Regional and city culture(Delhi,Noida,Gazihabad,Luknnow)\n",
        "- Food quality and healthy eating habits(tiffin,palm oil , cooking)\n",
        "- Urban observation and human related to local vehicles and stickers.\n",
        "\n",
        "(Cited sources:\n",
        "- \"I was caught without helmet and license...discussed bribe on my behalf\"\n",
        "- \"cops keep a civ to discuss bribes.\"\n",
        "- \"same problem. I started eating power meals at home...\"\n",
        "\n",
        "-------------------------------------\n",
        "Writing Style\n",
        "-------------------------------------\n",
        "- Informal,candid and often humors\n",
        "- uses sarcasm and jokes to discus serious social or civic issues\n",
        "- direct and straight forward\n",
        "\n",
        "(Cited sources:\n",
        "- \"Toh hum Noida or ghaziabad k pahadio se bhagana shuru kare fir? bhukmari aajayegi\"\n",
        "- \"I wore a toga, she showed up in regular clothes.\"\n",
        "- \"Haha Delhi is hateable too but mostly those are HR UP14 NCR vehicle\n",
        "\n",
        "-------------------------------------\n",
        "Personality Traits\n",
        "-------------------------------------\n",
        "- Observant and socially aware, notices and comments on local trends and behaviors.\n",
        "- Health-conscious and practical (prefers home-cooked meals, criticizes poor quality food).\n",
        "- Bold and direct, not afraid to express strong opinions.\n",
        "- Humorous and light-hearted, even when discussing serious topics.\n",
        "\n",
        "(Cited sources:\n",
        "-\"Don't you have big muscle brothers or friends? or cop/lawyer friends? My hands are always itching to teach a lesson to such people.\"\n",
        "-\"Everyone is something in LKO... what is the obsession peeps.\"\n",
        "-\"Same problem. I started eating power meals at home...\"\n",
        "=====================================\n",
        "\"\"\"\n",
        "#write to file\n",
        "\n",
        "with open(\"Hungry-Move-6603_persona.txt\", \"w\" , encoding=\"utf-8\")as f:\n",
        "  f.write(persona_text)\n",
        "\n",
        "print(\"persona summary file Hungry-Move-6603_persona.txt saved successfuly\")\n"
      ],
      "metadata": {
        "colab": {
          "base_uri": "https://localhost:8080/"
        },
        "id": "j_QEHIZTHd0G",
        "outputId": "45e59b2e-c628-4511-ec71-c7360c902ac3"
      },
      "execution_count": 16,
      "outputs": [
        {
          "output_type": "stream",
          "name": "stdout",
          "text": [
            "persona summary file Hungry-Move-6603_persona.txt saved successfuly\n"
          ]
        }
      ]
    },
    {
      "cell_type": "markdown",
      "source": [
        "**step 6: Final output**"
      ],
      "metadata": {
        "id": "eWg3lLf0Xo5R"
      }
    },
    {
      "cell_type": "code",
      "source": [
        "from google.colab import files\n",
        "files.download(\"Hungry-Move-6603_persona.txt\")"
      ],
      "metadata": {
        "colab": {
          "base_uri": "https://localhost:8080/",
          "height": 17
        },
        "id": "xmXI5-ilJJwo",
        "outputId": "4208c908-22ef-4414-c11f-04580c904a49"
      },
      "execution_count": 17,
      "outputs": [
        {
          "output_type": "display_data",
          "data": {
            "text/plain": [
              "<IPython.core.display.Javascript object>"
            ],
            "application/javascript": [
              "\n",
              "    async function download(id, filename, size) {\n",
              "      if (!google.colab.kernel.accessAllowed) {\n",
              "        return;\n",
              "      }\n",
              "      const div = document.createElement('div');\n",
              "      const label = document.createElement('label');\n",
              "      label.textContent = `Downloading \"${filename}\": `;\n",
              "      div.appendChild(label);\n",
              "      const progress = document.createElement('progress');\n",
              "      progress.max = size;\n",
              "      div.appendChild(progress);\n",
              "      document.body.appendChild(div);\n",
              "\n",
              "      const buffers = [];\n",
              "      let downloaded = 0;\n",
              "\n",
              "      const channel = await google.colab.kernel.comms.open(id);\n",
              "      // Send a message to notify the kernel that we're ready.\n",
              "      channel.send({})\n",
              "\n",
              "      for await (const message of channel.messages) {\n",
              "        // Send a message to notify the kernel that we're ready.\n",
              "        channel.send({})\n",
              "        if (message.buffers) {\n",
              "          for (const buffer of message.buffers) {\n",
              "            buffers.push(buffer);\n",
              "            downloaded += buffer.byteLength;\n",
              "            progress.value = downloaded;\n",
              "          }\n",
              "        }\n",
              "      }\n",
              "      const blob = new Blob(buffers, {type: 'application/binary'});\n",
              "      const a = document.createElement('a');\n",
              "      a.href = window.URL.createObjectURL(blob);\n",
              "      a.download = filename;\n",
              "      div.appendChild(a);\n",
              "      a.click();\n",
              "      div.remove();\n",
              "    }\n",
              "  "
            ]
          },
          "metadata": {}
        },
        {
          "output_type": "display_data",
          "data": {
            "text/plain": [
              "<IPython.core.display.Javascript object>"
            ],
            "application/javascript": [
              "download(\"download_9764aaa8-a197-455c-8dc9-1f5274a40e03\", \"Hungry-Move-6603_persona.txt\", 1825)"
            ]
          },
          "metadata": {}
        }
      ]
    }
  ]
}